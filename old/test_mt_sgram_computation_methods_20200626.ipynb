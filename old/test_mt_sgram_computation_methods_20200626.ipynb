{
 "cells": [
  {
   "cell_type": "markdown",
   "metadata": {},
   "source": [
    "# Testing Multitaper Spectrogram Computation Methods\n",
    "Michael Nolan\n",
    "2020.06.26"
   ]
  },
  {
   "cell_type": "code",
   "execution_count": null,
   "metadata": {},
   "outputs": [],
   "source": [
    "from aopy import datareader, datafilter\n",
    "import tfspec\n",
    "\n",
    "import numpy as np\n",
    "import scipy as sp\n",
    "import matplotlib.pyplot as plt\n",
    "import torch\n",
    "\n",
    "import fooof"
   ]
  },
  {
   "cell_type": "code",
   "execution_count": null,
   "metadata": {},
   "outputs": [],
   "source": [
    "# load an example file\n",
    "ecog_example_filepath = \"/Volumes/Samsung_T5/aoLab/Data/WirelessData/Goose_Multiscale_M1/180325/001/rec001.LM1_ECOG_3.clfp.dat\"\n",
    "data, experiment, mask = datareader.load_ecog_clfp_data(ecog_example_filepath,t_range=(0,20))\n",
    "data = data - data.mean(axis=0)"
   ]
  },
  {
   "cell_type": "code",
   "execution_count": null,
   "metadata": {},
   "outputs": [],
   "source": [
    "num_ch,N = data.shape\n",
    "srate = experiment['srate']\n",
    "T = N/srate\n",
    "print('Channels: {}\\nSampling Rate: {}Hz\\nSamples: {}\\nTime: {}s'.format(num_ch,srate,N,T))"
   ]
  },
  {
   "cell_type": "code",
   "execution_count": null,
   "metadata": {},
   "outputs": [],
   "source": [
    "T_plot = 60\n",
    "ch_idx = 0\n",
    "N_plot = data.shape[-1]\n",
    "time_plot = np.arange(N_plot)/srate\n",
    "f_inspect,ax = plt.subplots(2,1,figsize=(12,6),dpi=100,sharex=True)\n",
    "ax[0].plot(time_plot,data[ch_idx,:N_plot])\n",
    "ax[1].plot(time_plot,mask['hf'][:N_plot])\n",
    "ax[1].plot(time_plot,mask['sat'][:N_plot])\n",
    "ax[0].set_ylabel('ch. {} ($\\mu V$)'.format(ch_idx))\n",
    "ax[0].set_title('ECoG Data')\n",
    "ax[1].set_ylabel('0/1')\n",
    "ax[1].set_xlabel('time (s)')"
   ]
  },
  {
   "cell_type": "code",
   "execution_count": null,
   "metadata": {},
   "outputs": [],
   "source": [
    "# data[:,mask['hf'] | mask['sat']] = 0."
   ]
  },
  {
   "cell_type": "code",
   "execution_count": null,
   "metadata": {},
   "outputs": [],
   "source": [
    "# spectrogram estimation\n",
    "tapers = [0.3,5];\n",
    "dn = 0.1;\n",
    "T = 10\n",
    "spec, f, ti, err = tfspec.tfspec(data[:,:T*srate], tapers=tapers, sampling=srate, dn=dn,fk=(0,120), contflag=True);"
   ]
  },
  {
   "cell_type": "code",
   "execution_count": null,
   "metadata": {},
   "outputs": [],
   "source": [
    "spec[-1,-1,:10]"
   ]
  },
  {
   "cell_type": "code",
   "execution_count": null,
   "metadata": {},
   "outputs": [],
   "source": [
    "# # filter bad regions by spectrogram power\n",
    "# total_power_masked = 10*np.ma.log10(spec).mean(axis=-1)[0,:]\n",
    "# mean_power = total_power_masked.mean()\n",
    "# std_power = total_power_masked.std()\n",
    "# time_mask = (total_power_masked.data < mean_power - std_power) | (total_power_masked.data > mean_power + std_power) | (total_power_masked.mask)"
   ]
  },
  {
   "cell_type": "code",
   "execution_count": null,
   "metadata": {},
   "outputs": [],
   "source": [
    "# time_mask.mean()"
   ]
  },
  {
   "cell_type": "code",
   "execution_count": null,
   "metadata": {},
   "outputs": [],
   "source": [
    "# plt.plot(f,10*np.log10(spec[0,~time_mask,:].mean(axis=0)/srate**2))\n",
    "plt.plot(f,10*np.log10(spec[:,:45,:].mean(axis=(0,1))))"
   ]
  },
  {
   "cell_type": "code",
   "execution_count": null,
   "metadata": {},
   "outputs": [],
   "source": [
    "_,ax = plt.subplots(1,1,figsize=(12,6))\n",
    "# ax.imshow(10*np.log10(spec[0,np.logical_not(time_mask),:]).T,origin='bottom',clim=(-30,0),aspect='auto')\n",
    "ax.imshow(10*np.log10(spec.mean(axis=0)).T,origin='bottom',clim=(30,50),aspect='auto')"
   ]
  },
  {
   "cell_type": "code",
   "execution_count": null,
   "metadata": {},
   "outputs": [],
   "source": [
    "plt."
   ]
  },
  {
   "cell_type": "code",
   "execution_count": null,
   "metadata": {},
   "outputs": [],
   "source": []
  }
 ],
 "metadata": {
  "kernelspec": {
   "display_name": "ecog_is2s",
   "language": "python",
   "name": "ecog_is2s"
  },
  "language_info": {
   "codemirror_mode": {
    "name": "ipython",
    "version": 3
   },
   "file_extension": ".py",
   "mimetype": "text/x-python",
   "name": "python",
   "nbconvert_exporter": "python",
   "pygments_lexer": "ipython3",
   "version": "3.7.6"
  }
 },
 "nbformat": 4,
 "nbformat_minor": 4
}
